{
 "cells": [
  {
   "cell_type": "markdown",
   "id": "b855b308",
   "metadata": {},
   "source": [
    "## Walkthru sample notebook"
   ]
  },
  {
   "cell_type": "markdown",
   "id": "d50ddd14",
   "metadata": {},
   "source": [
    "Here is how I calculate `1+1`:"
   ]
  },
  {
   "cell_type": "code",
   "execution_count": 1,
   "id": "b3a1fcd1",
   "metadata": {},
   "outputs": [
    {
     "data": {
      "text/plain": [
       "2"
      ]
     },
     "execution_count": 1,
     "metadata": {},
     "output_type": "execute_result"
    }
   ],
   "source": [
    "1+1"
   ]
  },
  {
   "cell_type": "code",
   "execution_count": 2,
   "id": "6f4a3d6f",
   "metadata": {},
   "outputs": [],
   "source": [
    "from numpy import *"
   ]
  },
  {
   "cell_type": "markdown",
   "id": "e9f5820f",
   "metadata": {},
   "source": [
    "Here is how I calculate `sin`:"
   ]
  },
  {
   "cell_type": "code",
   "execution_count": 3,
   "id": "3b7ed240",
   "metadata": {},
   "outputs": [
    {
     "data": {
      "text/plain": [
       "array([0.84147098, 1.        ])"
      ]
     },
     "execution_count": 3,
     "metadata": {},
     "output_type": "execute_result"
    }
   ],
   "source": [
    "a = array([1.0, pi/2])\n",
    "sin(a)"
   ]
  },
  {
   "cell_type": "markdown",
   "id": "79c93831",
   "metadata": {},
   "source": []
  }
 ],
 "metadata": {
  "kernelspec": {
   "display_name": "torch26",
   "language": "python",
   "name": "python3"
  },
  "language_info": {
   "codemirror_mode": {
    "name": "ipython",
    "version": 3
   },
   "file_extension": ".py",
   "mimetype": "text/x-python",
   "name": "python",
   "nbconvert_exporter": "python",
   "pygments_lexer": "ipython3",
   "version": "3.11.11"
  }
 },
 "nbformat": 4,
 "nbformat_minor": 5
}
