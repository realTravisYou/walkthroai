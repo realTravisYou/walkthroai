{
 "cells": [
  {
   "cell_type": "markdown",
   "id": "5eb8e394-bbbe-444b-a32d-1473544adcfa",
   "metadata": {},
   "source": [
    "## How can I calculate `1+1`"
   ]
  },
  {
   "cell_type": "code",
   "execution_count": 1,
   "id": "c24dc48d-7237-4386-8211-7a7a821a8fcc",
   "metadata": {},
   "outputs": [
    {
     "data": {
      "text/plain": [
       "2"
      ]
     },
     "execution_count": 1,
     "metadata": {},
     "output_type": "execute_result"
    }
   ],
   "source": [
    "1 + 1"
   ]
  },
  {
   "cell_type": "code",
   "execution_count": 5,
   "id": "4df61cf2-c26f-4dd3-a47a-a5a0e24c58d8",
   "metadata": {},
   "outputs": [],
   "source": [
    "import numpy \n",
    "import math"
   ]
  },
  {
   "cell_type": "markdown",
   "id": "0b2fd15e-86c6-4367-8985-2678c0816da1",
   "metadata": {},
   "source": [
    "### How can I calculate `sin`:"
   ]
  },
  {
   "cell_type": "code",
   "execution_count": 6,
   "id": "6aba618b-9fb5-4a55-9fff-6de70524a929",
   "metadata": {},
   "outputs": [
    {
     "data": {
      "text/plain": [
       "1.0"
      ]
     },
     "execution_count": 6,
     "metadata": {},
     "output_type": "execute_result"
    }
   ],
   "source": [
    "numpy.sin(math.pi/2)"
   ]
  },
  {
   "cell_type": "code",
   "execution_count": null,
   "id": "4bde2a69-fe5c-489c-8a4b-cc65cb2fd981",
   "metadata": {},
   "outputs": [],
   "source": []
  }
 ],
 "metadata": {
  "kernelspec": {
   "display_name": "Python 3 (ipykernel)",
   "language": "python",
   "name": "python3"
  },
  "language_info": {
   "codemirror_mode": {
    "name": "ipython",
    "version": 3
   },
   "file_extension": ".py",
   "mimetype": "text/x-python",
   "name": "python",
   "nbconvert_exporter": "python",
   "pygments_lexer": "ipython3",
   "version": "3.10.13"
  }
 },
 "nbformat": 4,
 "nbformat_minor": 5
}
